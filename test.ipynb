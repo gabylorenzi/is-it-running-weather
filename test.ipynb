{
 "metadata": {
  "language_info": {
   "codemirror_mode": {
    "name": "ipython",
    "version": 3
   },
   "file_extension": ".py",
   "mimetype": "text/x-python",
   "name": "python",
   "nbconvert_exporter": "python",
   "pygments_lexer": "ipython3",
   "version": "3.7.4-final"
  },
  "orig_nbformat": 2,
  "kernelspec": {
   "name": "python3",
   "display_name": "Python 3.7.4 64-bit ('anaconda3': virtualenv)",
   "metadata": {
    "interpreter": {
     "hash": "dca0ade3e726a953b501b15e8e990130d2b7799f14cfd9f4271676035ebe5511"
    }
   }
  }
 },
 "nbformat": 4,
 "nbformat_minor": 2,
 "cells": [
  {
   "cell_type": "code",
   "execution_count": 1,
   "metadata": {},
   "outputs": [],
   "source": [
    "import pandas as pd"
   ]
  },
  {
   "cell_type": "code",
   "execution_count": 2,
   "metadata": {},
   "outputs": [
    {
     "output_type": "execute_result",
     "data": {
      "text/plain": [
       "    Result  Activity ID              Activity Date  \\\n",
       "0    GREAT   3621601582   Jun 16, 2020, 2:41:45 AM   \n",
       "1      NaN   3626942301   Jun 17, 2020, 2:31:38 AM   \n",
       "2      NaN   3631936907   Jun 18, 2020, 2:03:07 AM   \n",
       "3      NaN   3636553128   Jun 19, 2020, 1:42:03 AM   \n",
       "4      NaN   3640833994  Jun 20, 2020, 12:44:24 AM   \n",
       "..     ...          ...                        ...   \n",
       "633  GREAT   6468846636   Jan 3, 2022, 11:10:16 PM   \n",
       "634  GREAT   6473813852    Jan 4, 2022, 9:50:52 PM   \n",
       "635    NaN   6473885193   Jan 4, 2022, 11:08:17 PM   \n",
       "636    BAD   6479101033   Jan 5, 2022, 11:40:34 PM   \n",
       "637  GREAT   6483848476   Jan 6, 2022, 10:23:10 PM   \n",
       "\n",
       "                        Activity Name Activity Type  \\\n",
       "0             first mile smells fishy           Run   \n",
       "1    Gabe is on steroids hear me out            Run   \n",
       "2                     progression run           Run   \n",
       "3                       Recovery day            Run   \n",
       "4                   Saw many mansions           Run   \n",
       "..                                ...           ...   \n",
       "633                            easy 4           Run   \n",
       "634            No gloves was the move           Run   \n",
       "635                       Evening Run           Run   \n",
       "636   treadmills are basically pacers           Run   \n",
       "637           Great run great weather           Run   \n",
       "\n",
       "                                  Activity Description  Elapsed Time  \\\n",
       "0              gonna re map this bad boy on map my run          1929   \n",
       "1                                                  NaN          2551   \n",
       "2    my heart rate when i turned around on stone wa...          2617   \n",
       "3    Forgot about these shoes and now i have been f...          1478   \n",
       "4    I forgot how much i needed matcha in my life a...          2816   \n",
       "..                                                 ...           ...   \n",
       "633                                                NaN          1880   \n",
       "634  Spent a majority of the run confused about wha...          3742   \n",
       "635                                                NaN           243   \n",
       "636  perhaps time based training will be method #1....          2700   \n",
       "637                 No way a storm is coming it’s WARM          2164   \n",
       "\n",
       "     Distance  Max Heart Rate  Relative Effort  ...  Wind Speed  Wind Gust  \\\n",
       "0        6.81             NaN              NaN  ...        2.12       4.08   \n",
       "1        8.81             NaN              NaN  ...         NaN        NaN   \n",
       "2        9.66             NaN              NaN  ...         NaN        NaN   \n",
       "3        4.88             NaN              NaN  ...         NaN        NaN   \n",
       "4        9.68             NaN              NaN  ...         NaN        NaN   \n",
       "..        ...             ...              ...  ...         ...        ...   \n",
       "633      6.43             NaN              NaN  ...         NaN        NaN   \n",
       "634     11.28             NaN              NaN  ...        2.47       4.23   \n",
       "635      0.73             NaN              NaN  ...        2.68       5.70   \n",
       "636      8.45             NaN              NaN  ...         NaN        NaN   \n",
       "637      6.74             NaN              NaN  ...        1.72       3.47   \n",
       "\n",
       "     Wind Bearing  Precipitation Intensity Precipitation Probability  \\\n",
       "0           205.0                      0.0                       0.0   \n",
       "1             NaN                      NaN                       NaN   \n",
       "2             NaN                      NaN                       NaN   \n",
       "3             NaN                      NaN                       NaN   \n",
       "4             NaN                      NaN                       NaN   \n",
       "..            ...                      ...                       ...   \n",
       "633           NaN                      NaN                       NaN   \n",
       "634         221.0                      0.0                       0.0   \n",
       "635         229.0                      0.0                       0.0   \n",
       "636           NaN                      NaN                       NaN   \n",
       "637         255.0                      0.0                       0.0   \n",
       "\n",
       "     Precipitation Type  Cloud Cover  Weather Visibility  UV Index  \\\n",
       "0                   NaN         0.14             16093.0       0.0   \n",
       "1                   NaN          NaN                 NaN       NaN   \n",
       "2                   NaN          NaN                 NaN       NaN   \n",
       "3                   NaN          NaN                 NaN       NaN   \n",
       "4                   NaN          NaN                 NaN       NaN   \n",
       "..                  ...          ...                 ...       ...   \n",
       "633                 NaN          NaN                 NaN       NaN   \n",
       "634                 NaN         0.29             16093.0       0.0   \n",
       "635                 NaN         0.13             16093.0       0.0   \n",
       "636                 NaN          NaN                 NaN       NaN   \n",
       "637                 NaN         0.41             16093.0       0.0   \n",
       "\n",
       "     Weather Ozone  \n",
       "0       314.299988  \n",
       "1              NaN  \n",
       "2              NaN  \n",
       "3              NaN  \n",
       "4              NaN  \n",
       "..             ...  \n",
       "633            NaN  \n",
       "634     329.000000  \n",
       "635     330.600006  \n",
       "636            NaN  \n",
       "637     354.100006  \n",
       "\n",
       "[638 rows x 28 columns]"
      ],
      "text/html": "<div>\n<style scoped>\n    .dataframe tbody tr th:only-of-type {\n        vertical-align: middle;\n    }\n\n    .dataframe tbody tr th {\n        vertical-align: top;\n    }\n\n    .dataframe thead th {\n        text-align: right;\n    }\n</style>\n<table border=\"1\" class=\"dataframe\">\n  <thead>\n    <tr style=\"text-align: right;\">\n      <th></th>\n      <th>Result</th>\n      <th>Activity ID</th>\n      <th>Activity Date</th>\n      <th>Activity Name</th>\n      <th>Activity Type</th>\n      <th>Activity Description</th>\n      <th>Elapsed Time</th>\n      <th>Distance</th>\n      <th>Max Heart Rate</th>\n      <th>Relative Effort</th>\n      <th>...</th>\n      <th>Wind Speed</th>\n      <th>Wind Gust</th>\n      <th>Wind Bearing</th>\n      <th>Precipitation Intensity</th>\n      <th>Precipitation Probability</th>\n      <th>Precipitation Type</th>\n      <th>Cloud Cover</th>\n      <th>Weather Visibility</th>\n      <th>UV Index</th>\n      <th>Weather Ozone</th>\n    </tr>\n  </thead>\n  <tbody>\n    <tr>\n      <td>0</td>\n      <td>GREAT</td>\n      <td>3621601582</td>\n      <td>Jun 16, 2020, 2:41:45 AM</td>\n      <td>first mile smells fishy</td>\n      <td>Run</td>\n      <td>gonna re map this bad boy on map my run</td>\n      <td>1929</td>\n      <td>6.81</td>\n      <td>NaN</td>\n      <td>NaN</td>\n      <td>...</td>\n      <td>2.12</td>\n      <td>4.08</td>\n      <td>205.0</td>\n      <td>0.0</td>\n      <td>0.0</td>\n      <td>NaN</td>\n      <td>0.14</td>\n      <td>16093.0</td>\n      <td>0.0</td>\n      <td>314.299988</td>\n    </tr>\n    <tr>\n      <td>1</td>\n      <td>NaN</td>\n      <td>3626942301</td>\n      <td>Jun 17, 2020, 2:31:38 AM</td>\n      <td>Gabe is on steroids hear me out</td>\n      <td>Run</td>\n      <td>NaN</td>\n      <td>2551</td>\n      <td>8.81</td>\n      <td>NaN</td>\n      <td>NaN</td>\n      <td>...</td>\n      <td>NaN</td>\n      <td>NaN</td>\n      <td>NaN</td>\n      <td>NaN</td>\n      <td>NaN</td>\n      <td>NaN</td>\n      <td>NaN</td>\n      <td>NaN</td>\n      <td>NaN</td>\n      <td>NaN</td>\n    </tr>\n    <tr>\n      <td>2</td>\n      <td>NaN</td>\n      <td>3631936907</td>\n      <td>Jun 18, 2020, 2:03:07 AM</td>\n      <td>progression run</td>\n      <td>Run</td>\n      <td>my heart rate when i turned around on stone wa...</td>\n      <td>2617</td>\n      <td>9.66</td>\n      <td>NaN</td>\n      <td>NaN</td>\n      <td>...</td>\n      <td>NaN</td>\n      <td>NaN</td>\n      <td>NaN</td>\n      <td>NaN</td>\n      <td>NaN</td>\n      <td>NaN</td>\n      <td>NaN</td>\n      <td>NaN</td>\n      <td>NaN</td>\n      <td>NaN</td>\n    </tr>\n    <tr>\n      <td>3</td>\n      <td>NaN</td>\n      <td>3636553128</td>\n      <td>Jun 19, 2020, 1:42:03 AM</td>\n      <td>Recovery day</td>\n      <td>Run</td>\n      <td>Forgot about these shoes and now i have been f...</td>\n      <td>1478</td>\n      <td>4.88</td>\n      <td>NaN</td>\n      <td>NaN</td>\n      <td>...</td>\n      <td>NaN</td>\n      <td>NaN</td>\n      <td>NaN</td>\n      <td>NaN</td>\n      <td>NaN</td>\n      <td>NaN</td>\n      <td>NaN</td>\n      <td>NaN</td>\n      <td>NaN</td>\n      <td>NaN</td>\n    </tr>\n    <tr>\n      <td>4</td>\n      <td>NaN</td>\n      <td>3640833994</td>\n      <td>Jun 20, 2020, 12:44:24 AM</td>\n      <td>Saw many mansions</td>\n      <td>Run</td>\n      <td>I forgot how much i needed matcha in my life a...</td>\n      <td>2816</td>\n      <td>9.68</td>\n      <td>NaN</td>\n      <td>NaN</td>\n      <td>...</td>\n      <td>NaN</td>\n      <td>NaN</td>\n      <td>NaN</td>\n      <td>NaN</td>\n      <td>NaN</td>\n      <td>NaN</td>\n      <td>NaN</td>\n      <td>NaN</td>\n      <td>NaN</td>\n      <td>NaN</td>\n    </tr>\n    <tr>\n      <td>...</td>\n      <td>...</td>\n      <td>...</td>\n      <td>...</td>\n      <td>...</td>\n      <td>...</td>\n      <td>...</td>\n      <td>...</td>\n      <td>...</td>\n      <td>...</td>\n      <td>...</td>\n      <td>...</td>\n      <td>...</td>\n      <td>...</td>\n      <td>...</td>\n      <td>...</td>\n      <td>...</td>\n      <td>...</td>\n      <td>...</td>\n      <td>...</td>\n      <td>...</td>\n      <td>...</td>\n    </tr>\n    <tr>\n      <td>633</td>\n      <td>GREAT</td>\n      <td>6468846636</td>\n      <td>Jan 3, 2022, 11:10:16 PM</td>\n      <td>easy 4</td>\n      <td>Run</td>\n      <td>NaN</td>\n      <td>1880</td>\n      <td>6.43</td>\n      <td>NaN</td>\n      <td>NaN</td>\n      <td>...</td>\n      <td>NaN</td>\n      <td>NaN</td>\n      <td>NaN</td>\n      <td>NaN</td>\n      <td>NaN</td>\n      <td>NaN</td>\n      <td>NaN</td>\n      <td>NaN</td>\n      <td>NaN</td>\n      <td>NaN</td>\n    </tr>\n    <tr>\n      <td>634</td>\n      <td>GREAT</td>\n      <td>6473813852</td>\n      <td>Jan 4, 2022, 9:50:52 PM</td>\n      <td>No gloves was the move</td>\n      <td>Run</td>\n      <td>Spent a majority of the run confused about wha...</td>\n      <td>3742</td>\n      <td>11.28</td>\n      <td>NaN</td>\n      <td>NaN</td>\n      <td>...</td>\n      <td>2.47</td>\n      <td>4.23</td>\n      <td>221.0</td>\n      <td>0.0</td>\n      <td>0.0</td>\n      <td>NaN</td>\n      <td>0.29</td>\n      <td>16093.0</td>\n      <td>0.0</td>\n      <td>329.000000</td>\n    </tr>\n    <tr>\n      <td>635</td>\n      <td>NaN</td>\n      <td>6473885193</td>\n      <td>Jan 4, 2022, 11:08:17 PM</td>\n      <td>Evening Run</td>\n      <td>Run</td>\n      <td>NaN</td>\n      <td>243</td>\n      <td>0.73</td>\n      <td>NaN</td>\n      <td>NaN</td>\n      <td>...</td>\n      <td>2.68</td>\n      <td>5.70</td>\n      <td>229.0</td>\n      <td>0.0</td>\n      <td>0.0</td>\n      <td>NaN</td>\n      <td>0.13</td>\n      <td>16093.0</td>\n      <td>0.0</td>\n      <td>330.600006</td>\n    </tr>\n    <tr>\n      <td>636</td>\n      <td>BAD</td>\n      <td>6479101033</td>\n      <td>Jan 5, 2022, 11:40:34 PM</td>\n      <td>treadmills are basically pacers</td>\n      <td>Run</td>\n      <td>perhaps time based training will be method #1....</td>\n      <td>2700</td>\n      <td>8.45</td>\n      <td>NaN</td>\n      <td>NaN</td>\n      <td>...</td>\n      <td>NaN</td>\n      <td>NaN</td>\n      <td>NaN</td>\n      <td>NaN</td>\n      <td>NaN</td>\n      <td>NaN</td>\n      <td>NaN</td>\n      <td>NaN</td>\n      <td>NaN</td>\n      <td>NaN</td>\n    </tr>\n    <tr>\n      <td>637</td>\n      <td>GREAT</td>\n      <td>6483848476</td>\n      <td>Jan 6, 2022, 10:23:10 PM</td>\n      <td>Great run great weather</td>\n      <td>Run</td>\n      <td>No way a storm is coming it’s WARM</td>\n      <td>2164</td>\n      <td>6.74</td>\n      <td>NaN</td>\n      <td>NaN</td>\n      <td>...</td>\n      <td>1.72</td>\n      <td>3.47</td>\n      <td>255.0</td>\n      <td>0.0</td>\n      <td>0.0</td>\n      <td>NaN</td>\n      <td>0.41</td>\n      <td>16093.0</td>\n      <td>0.0</td>\n      <td>354.100006</td>\n    </tr>\n  </tbody>\n</table>\n<p>638 rows × 28 columns</p>\n</div>"
     },
     "metadata": {},
     "execution_count": 2
    }
   ],
   "source": [
    "pd.read_csv('activities.csv')"
   ]
  },
  {
   "cell_type": "code",
   "execution_count": 3,
   "metadata": {},
   "outputs": [],
   "source": [
    "matched_features_list = ['Weather Temperature', #temp\n",
    "'Apparent Temperature', #feels_like\n",
    "'Humidity', #humidity\n",
    "'Wind Speed', #speed\n",
    "'Wind Gust', #gust\n",
    "'Cloud Cover'  #clouds\n",
    "]"
   ]
  },
  {
   "cell_type": "code",
   "execution_count": 4,
   "metadata": {},
   "outputs": [],
   "source": [
    "import requests"
   ]
  },
  {
   "cell_type": "code",
   "execution_count": 28,
   "metadata": {},
   "outputs": [],
   "source": [
    "url = f\"https://api.openweathermap.org/data/2.5/weather?q=New York&appid=29dabdd9237ba71d01601da27f3d052b\"\n",
    "response = requests.get(url)"
   ]
  },
  {
   "cell_type": "code",
   "execution_count": 29,
   "metadata": {},
   "outputs": [
    {
     "output_type": "execute_result",
     "data": {
      "text/plain": [
       "dict"
      ]
     },
     "metadata": {},
     "execution_count": 29
    }
   ],
   "source": [
    "type(response.json())"
   ]
  },
  {
   "cell_type": "code",
   "execution_count": 30,
   "metadata": {},
   "outputs": [],
   "source": [
    "import json"
   ]
  },
  {
   "cell_type": "code",
   "execution_count": 33,
   "metadata": {},
   "outputs": [
    {
     "output_type": "execute_result",
     "data": {
      "text/plain": [
       "0"
      ]
     },
     "metadata": {},
     "execution_count": 33
    }
   ],
   "source": [
    "response.json()['clouds']['all']"
   ]
  },
  {
   "cell_type": "code",
   "execution_count": null,
   "metadata": {},
   "outputs": [],
   "source": []
  }
 ]
}